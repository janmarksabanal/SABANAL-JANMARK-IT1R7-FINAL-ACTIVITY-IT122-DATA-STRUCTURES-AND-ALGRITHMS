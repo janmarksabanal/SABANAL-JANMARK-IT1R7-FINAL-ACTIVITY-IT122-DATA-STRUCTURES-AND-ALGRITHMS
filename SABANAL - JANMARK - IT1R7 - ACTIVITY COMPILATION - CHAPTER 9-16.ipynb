{
 "cells": [
  {
   "cell_type": "code",
   "execution_count": 8,
   "id": "3db6d5fb-538e-4bf6-bdf5-25b09d373ca2",
   "metadata": {},
   "outputs": [
    {
     "name": "stdout",
     "output_type": "stream",
     "text": [
      "Discuss your learnings on from Chapter 9 to Chapter 17\n",
      "\n",
      "Chapter 9:\n",
      "\n",
      "In the Chapter 9 video lesson in YouTube, it talks all about the graph data structure introduction. In the said video, there are two types of graph which are the Directed and Undirected.\n",
      "But, before I share my insights about the two graphs, I will just first define the word 'Graph'. A graph is a collection of nodes and edges that represents relationships. Nodes arevertices that correspond to objects, while edges are the connections between objects. To continue with the 2 types of graph, when we say Directed graph, there is a direction in the way two nodes connected. So to make it clear, directed graphs have edges with direction.\n",
      "\n",
      "The edges indicate a one-way relationship, in that each edge can only be traversed in a single direction. The example for this is the flight routes between two cities. On the other hand, when we say Undirected graph, it is a graph where there is no direction to how two nodes in the graph are connected.\n",
      "To make more easy to understand, undirected graphs have edges that do not have a direction. The edges indicate a two-way relationship, in that each edge can be traversed in both directions. Example for this is the Facebook connections.\n"
     ]
    }
   ],
   "source": [
    "print(\"Discuss your learnings on from Chapter 9 to Chapter 17\")\n",
    "print(\"\")\n",
    "print(\"Chapter 9:\")\n",
    "print(\"\")\n",
    "print(\"In the Chapter 9 video lesson in YouTube, it talks all about the graph data structure introduction. In the said video, there are two types of graph which are the Directed and Undirected.\")\n",
    "print(\"But, before I share my insights about the two graphs, I will just first define the word 'Graph'. A graph is a collection of nodes and edges that represents relationships. Nodes arevertices that correspond to objects, while edges are the connections between objects. To continue with the 2 types of graph, when we say Directed graph, there is a direction in the way two nodes connected. So to make it clear, directed graphs have edges with direction.\")\n",
    "print(\"\")\n",
    "print(\"The edges indicate a one-way relationship, in that each edge can only be traversed in a single direction. The example for this is the flight routes between two cities. On the other hand, when we say Undirected graph, it is a graph where there is no direction to how two nodes in the graph are connected.\")\n",
    "print(\"To make more easy to understand, undirected graphs have edges that do not have a direction. The edges indicate a two-way relationship, in that each edge can be traversed in both directions. Example for this is the Facebook connections.\")"
   ]
  },
  {
   "cell_type": "code",
   "execution_count": 12,
   "id": "a6122ed3-72fc-4ceb-a797-b41bcefa2503",
   "metadata": {},
   "outputs": [
    {
     "name": "stdout",
     "output_type": "stream",
     "text": [
      "Discuss your learnings on from Chapter 9 to Chapter 17\n",
      "\n",
      "Chapter 10:\n",
      "\n",
      "In the Chapter 10 video lesson in YouTube, it talks about the Binary Search. It was discussed there the overview, theory behind linear search, theory behind binary search, python codes for binary search, performance comparison between linear and binary search, recursive binary search and the exercise of this topic.\n",
      "I've learned that Binary Search is the most popular search algorithm that can find an element using log(n) time complexity. The theory behind Binary search is that it compares the target value to the middle element of the array.\n",
      "\n",
      "If they are not equal, the half in which the target cannot lie is eliminated and the search continues on the remaining half, again taking the middle element to compare to the target value, and repeating this until the target value is found.\n",
      "Binary search is different with Linear because linear search is an algorithm to find an element in a list by sequentially checking the elements of the list until finding the matching element, while Binary search is simply an algorithm that finds the position of a target value within a sorted array. When it comes into their performance, in linear search, performance is done by equality comparisons, while in binary search, the performance is done by ordering comparisons.\n"
     ]
    }
   ],
   "source": [
    "print(\"Discuss your learnings on from Chapter 9 to Chapter 17\")\n",
    "print(\"\")\n",
    "print(\"Chapter 10:\")\n",
    "print(\"\")\n",
    "print(\"In the Chapter 10 video lesson in YouTube, it talks about the Binary Search. It was discussed there the overview, theory behind linear search, theory behind binary search, python codes for binary search, performance comparison between linear and binary search, recursive binary search and the exercise of this topic.\")\n",
    "print(\"I've learned that Binary Search is the most popular search algorithm that can find an element using log(n) time complexity. The theory behind Binary search is that it compares the target value to the middle element of the array.\")\n",
    "print(\"\")\n",
    "print(\"If they are not equal, the half in which the target cannot lie is eliminated and the search continues on the remaining half, again taking the middle element to compare to the target value, and repeating this until the target value is found.\")\n",
    "print(\"Binary search is different with Linear because linear search is an algorithm to find an element in a list by sequentially checking the elements of the list until finding the matching element, while Binary search is simply an algorithm that finds the position of a target value within a sorted array. When it comes into their performance, in linear search, performance is done by equality comparisons, while in binary search, the performance is done by ordering comparisons.\")"
   ]
  },
  {
   "cell_type": "code",
   "execution_count": 16,
   "id": "36ede6e9-135a-488c-aed6-52759bd8fbf4",
   "metadata": {},
   "outputs": [
    {
     "name": "stdout",
     "output_type": "stream",
     "text": [
      "Discuss your learnings on from Chapter 9 to Chapter 17\n",
      "\n",
      "Chapter 11:\n",
      "\n",
      "In the Chapter 11 video lesson in YouTube, it talks all about Bubble Sort. The videocovers the theory of Bubble Sort, it's python explanation and lastly the exercise of the topic. I've learned that Bubble Sort is a sorting technique used to sort a list or an array.\n",
      "In data structure and algorithm tutorials, this technique is covered as the most common technique for performing a sorting. It performs sorting in O(n^2) time complexity so it is not the most efficient, but it is probably a very simple technique to understand.\n",
      "\n",
      "Why is it called Bubble Sort? It is known as bubble sort, because with every complete iteration the largest element in the given array, bubbles up towards the last place or the highest index, just like a water bubble rises up to the water surface. An example of bubble sort is starting from the beginning of the list, compare every adjacent pair, swap their position if they are not in the right order (the latter one is smaller than the former one).\n",
      "After each iteration, one less element (the last one) is needed to be compared until there are no more elements left to be compared. So overall, Bubble sort is a simple sorting algorithm because this sorting algorithm is comparison-based algorithm in which each pair of adjacent elements is compared and the elements are swapped if they are not in order.\n"
     ]
    }
   ],
   "source": [
    "print(\"Discuss your learnings on from Chapter 9 to Chapter 17\")\n",
    "print(\"\")\n",
    "print(\"Chapter 11:\")\n",
    "print(\"\")\n",
    "print(\"In the Chapter 11 video lesson in YouTube, it talks all about Bubble Sort. The videocovers the theory of Bubble Sort, it's python explanation and lastly the exercise of the topic. I've learned that Bubble Sort is a sorting technique used to sort a list or an array.\")\n",
    "print(\"In data structure and algorithm tutorials, this technique is covered as the most common technique for performing a sorting. It performs sorting in O(n^2) time complexity so it is not the most efficient, but it is probably a very simple technique to understand.\")\n",
    "print(\"\")\n",
    "print(\"Why is it called Bubble Sort? It is known as bubble sort, because with every complete iteration the largest element in the given array, bubbles up towards the last place or the highest index, just like a water bubble rises up to the water surface. An example of bubble sort is starting from the beginning of the list, compare every adjacent pair, swap their position if they are not in the right order (the latter one is smaller than the former one).\")\n",
    "print(\"After each iteration, one less element (the last one) is needed to be compared until there are no more elements left to be compared. So overall, Bubble sort is a simple sorting algorithm because this sorting algorithm is comparison-based algorithm in which each pair of adjacent elements is compared and the elements are swapped if they are not in order.\")"
   ]
  },
  {
   "cell_type": "code",
   "execution_count": 17,
   "id": "f942ef21-c34c-4907-9996-1fe6a70cb617",
   "metadata": {},
   "outputs": [
    {
     "name": "stdout",
     "output_type": "stream",
     "text": [
      "Discuss your learnings on from Chapter 9 to Chapter 17\n",
      "\n",
      "Chapter 12:\n",
      "\n",
      "In the Chapter 12 video lesson in YouTube, it talks all about the Quick Sort. In the whole video, it discussed the Quick sort technique, Hoare partition scheme, Lomuto partition scheme, Python code for Quick Sort and lastly the exercise of the topic.\n",
      "topic. I've learned that Quick Sort is a popular sorting algorithm invented by British scientist Tony Hoare. Quick sort is a technique uses divide and conquer approach to divide given list into partitions and then recursively sort these partitions. It starts with a pivot element and tries to put pivot element in its correct position.\n",
      "\n",
      "So since I mentioned Hoare and Lomuto partition scheme above, I will differentiate the two. Lomuto’s partition scheme is easy to implement as compared to Hoare scheme. Lomuto partition scheme has inferior performance to Hoare’s Quick Sort. While, Hoare’s Partition Scheme works by initializing two indexes that start at two ends, the two indexes move toward each other until an inversion is (A smaller value on the left side and greater value on the right side) found.\n",
      "The important characteristic of Quick Sort is that it is useful for sorting arrays. In efficient implementations, Quick Sort is not a stable sort, meaning that the relative order of equal sort items is not preserved. The space complexity of Quick Sort is O(nLogn), it doesn’t require any extra storage.\n"
     ]
    }
   ],
   "source": [
    "print(\"Discuss your learnings on from Chapter 9 to Chapter 17\")\n",
    "print(\"\")\n",
    "print(\"Chapter 12:\")\n",
    "print(\"\")\n",
    "print(\"In the Chapter 12 video lesson in YouTube, it talks all about the Quick Sort. In the whole video, it discussed the Quick sort technique, Hoare partition scheme, Lomuto partition scheme, Python code for Quick Sort and lastly the exercise of the topic.\")\n",
    "print(\"topic. I've learned that Quick Sort is a popular sorting algorithm invented by British scientist Tony Hoare. Quick sort is a technique uses divide and conquer approach to divide given list into partitions and then recursively sort these partitions. It starts with a pivot element and tries to put pivot element in its correct position.\")\n",
    "print(\"\")\n",
    "print(\"So since I mentioned Hoare and Lomuto partition scheme above, I will differentiate the two. Lomuto’s partition scheme is easy to implement as compared to Hoare scheme. Lomuto partition scheme has inferior performance to Hoare’s Quick Sort. While, Hoare’s Partition Scheme works by initializing two indexes that start at two ends, the two indexes move toward each other until an inversion is (A smaller value on the left side and greater value on the right side) found.\")\n",
    "print(\"The important characteristic of Quick Sort is that it is useful for sorting arrays. In efficient implementations, Quick Sort is not a stable sort, meaning that the relative order of equal sort items is not preserved. The space complexity of Quick Sort is O(nLogn), it doesn’t require any extra storage.\")"
   ]
  },
  {
   "cell_type": "code",
   "execution_count": 18,
   "id": "d26a44fe-217b-4ac9-80d9-b2a521ec995f",
   "metadata": {},
   "outputs": [
    {
     "name": "stdout",
     "output_type": "stream",
     "text": [
      "Discuss your learnings on from Chapter 9 to Chapter 17\n",
      "\n",
      "Chapter 13:\n",
      "\n",
      "In the Chapter 13 video lesson in YouTube, it talks all about the Insertion Sort. The whole video discussed about the Theory of Insertion Sort, it’s coding and exercise about the topic. I've noticed that most of the topics are all about sort, so I will be first share my insights about what is sort.\n",
      "Sorting is the process of arranging a list of elements in a particular order, it could be ascending or descending. I’ve learned that Insertion Sort is a simple sorting algorithm with the few lines of code that is best for small lists. It is much less efficient on large lists than more advanced algorithms such as quicksort, heapsort, or merge sort.\n",
      "\n",
      "However, insertion sort provides several advantages such as Simple implementation, Efficient, Adaptive, Stable, and In- place. If your array is a very big insertion sort might not be the perfect choice as it performs in O(n^2) time complexity. The theory of Insertion Sort is that it is the sorting mechanism where the sorted array is built having one item at a time.\n",
      "The array elements are compared with each other sequentially and then arranged simultaneously in some particular order. The analogy can be understood from the style we arrange a deck of cards. This sort works on the principle of inserting an element at a particular position.\n"
     ]
    }
   ],
   "source": [
    "print(\"Discuss your learnings on from Chapter 9 to Chapter 17\")\n",
    "print(\"\")\n",
    "print(\"Chapter 13:\")\n",
    "print(\"\")\n",
    "print(\"In the Chapter 13 video lesson in YouTube, it talks all about the Insertion Sort. The whole video discussed about the Theory of Insertion Sort, it’s coding and exercise about the topic. I've noticed that most of the topics are all about sort, so I will be first share my insights about what is sort.\")\n",
    "print(\"Sorting is the process of arranging a list of elements in a particular order, it could be ascending or descending. I’ve learned that Insertion Sort is a simple sorting algorithm with the few lines of code that is best for small lists. It is much less efficient on large lists than more advanced algorithms such as quicksort, heapsort, or merge sort.\")\n",
    "print(\"\")\n",
    "print(\"However, insertion sort provides several advantages such as Simple implementation, Efficient, Adaptive, Stable, and In- place. If your array is a very big insertion sort might not be the perfect choice as it performs in O(n^2) time complexity. The theory of Insertion Sort is that it is the sorting mechanism where the sorted array is built having one item at a time.\")\n",
    "print(\"The array elements are compared with each other sequentially and then arranged simultaneously in some particular order. The analogy can be understood from the style we arrange a deck of cards. This sort works on the principle of inserting an element at a particular position.\")"
   ]
  },
  {
   "cell_type": "code",
   "execution_count": 19,
   "id": "5279d7f6-a3e5-44e6-b0cd-4f0204851738",
   "metadata": {},
   "outputs": [
    {
     "name": "stdout",
     "output_type": "stream",
     "text": [
      "Discuss your learnings on from Chapter 9 to Chapter 17\n",
      "\n",
      "Chapter 14:\n",
      "\n",
      "In the Chapter 14 video lesson in YouTube, it talks about the Merge Sort. In the whole video, it shows how exactly merge sort works, the implementation of merge sort in python and lastly showing an exercise for the practice of this topic.\n",
      "I’ve learned that merge sort is a sorting algorithm that gives time complexity of 0(nlogn) and thus perform better than insertion sort, bubble sort and the rest type of sorts which are found in the previous chapters. Merge sort is a sorting technique based on divide and conquer technique. So basically, merge sort first divides the array into equal halves and then combines them in a sorted manner.\n",
      "\n",
      "To have a short example of merge sort, we first divide the list into the smallest unit (1 element), then compare each element with the adjacent list to sort and merge the two adjacent lists. Finally all the elements are sorted and merged. The analysis of the merge sort function is simple. The merge sort function is breaking the problem size of n into two sub problems of size n/2each. The comparison (if start < right) and calculation of middle (middle = floor((start+end)/2)) are constant time taking processes.\n",
      "Also, we deduced that the merge function is Θ(n). So, we can write the overall running time of MERGE-SORT function as: T(n)= 2T (n/2) + Θ(n) + Θ(1). We have already dealt with the same function in Recurrence, Let’s Iterate, Now the Recursion and Master’s Theorem chapters and we know that it is going to take Θ(nlgn)time. So, this was a pure implementation of divide and conquer technique into an algorithm.\n"
     ]
    }
   ],
   "source": [
    "print(\"Discuss your learnings on from Chapter 9 to Chapter 17\")\n",
    "print(\"\")\n",
    "print(\"Chapter 14:\")\n",
    "print(\"\")\n",
    "print(\"In the Chapter 14 video lesson in YouTube, it talks about the Merge Sort. In the whole video, it shows how exactly merge sort works, the implementation of merge sort in python and lastly showing an exercise for the practice of this topic.\")\n",
    "print(\"I’ve learned that merge sort is a sorting algorithm that gives time complexity of 0(nlogn) and thus perform better than insertion sort, bubble sort and the rest type of sorts which are found in the previous chapters. Merge sort is a sorting technique based on divide and conquer technique. So basically, merge sort first divides the array into equal halves and then combines them in a sorted manner.\")\n",
    "print(\"\")\n",
    "print(\"To have a short example of merge sort, we first divide the list into the smallest unit (1 element), then compare each element with the adjacent list to sort and merge the two adjacent lists. Finally all the elements are sorted and merged. The analysis of the merge sort function is simple. The merge sort function is breaking the problem size of n into two sub problems of size n/2each. The comparison (if start < right) and calculation of middle (middle = floor((start+end)/2)) are constant time taking processes.\")\n",
    "print(\"Also, we deduced that the merge function is Θ(n). So, we can write the overall running time of MERGE-SORT function as: T(n)= 2T (n/2) + Θ(n) + Θ(1). We have already dealt with the same function in Recurrence, Let’s Iterate, Now the Recursion and Master’s Theorem chapters and we know that it is going to take Θ(nlgn)time. So, this was a pure implementation of divide and conquer technique into an algorithm.\")"
   ]
  },
  {
   "cell_type": "code",
   "execution_count": 24,
   "id": "594156cf-37ab-4e2c-9313-f6a2c272478a",
   "metadata": {},
   "outputs": [
    {
     "name": "stdout",
     "output_type": "stream",
     "text": [
      "Discuss your learnings on from Chapter 9 to Chapter 17\n",
      "\n",
      "Chapter 15:\n",
      "\n",
      "In the Chapter 15 video lesson in YouTube, it talks about the Shell Sort. In the whole video, it explained what is shell sort all about, it's implementation and lastly showing an exercise for the practice of this topic. I have learned that shell sort is basically the customization over insertion sort.\n",
      "Why? Because insertion sort requires many swaps and comparisons if heavy elements are located towards the end of an array. Then shell sort will initially sort subarrays that are equal distance apart. The distance that was talked about is referred to as a gap.\n",
      "\n",
      "We will then keep on reducing the gap until it is 1. With gap=1 it becomes insertion sort, but this time due to optimization we have performed earlier, sorting the array would require very less comparisons and elements swaps. So to make it simple, the method of shell sort starts by sorting pairs of elements far apart from each other, then progressively reducing the gap between elements to be compared.\n",
      "By starting with far apart elements, it can move some out-of-place elements into position faster than a simple nearest neighbour exchange. And a quick reminder that shell sort is not stable because it may change the relative order of elements with equal values. It is an adaptive sorting algorithm in that it executes faster when the input is partially sorted.\n"
     ]
    }
   ],
   "source": [
    "print(\"Discuss your learnings on from Chapter 9 to Chapter 17\")\n",
    "print(\"\")\n",
    "print(\"Chapter 15:\")\n",
    "print(\"\")\n",
    "print(\"In the Chapter 15 video lesson in YouTube, it talks about the Shell Sort. In the whole video, it explained what is shell sort all about, it's implementation and lastly showing an exercise for the practice of this topic. I have learned that shell sort is basically the customization over insertion sort.\")\n",
    "print(\"Why? Because insertion sort requires many swaps and comparisons if heavy elements are located towards the end of an array. Then shell sort will initially sort subarrays that are equal distance apart. The distance that was talked about is referred to as a gap.\")\n",
    "print(\"\")\n",
    "print(\"We will then keep on reducing the gap until it is 1. With gap=1 it becomes insertion sort, but this time due to optimization we have performed earlier, sorting the array would require very less comparisons and elements swaps. So to make it simple, the method of shell sort starts by sorting pairs of elements far apart from each other, then progressively reducing the gap between elements to be compared.\")\n",
    "print(\"By starting with far apart elements, it can move some out-of-place elements into position faster than a simple nearest neighbour exchange. And a quick reminder that shell sort is not stable because it may change the relative order of elements with equal values. It is an adaptive sorting algorithm in that it executes faster when the input is partially sorted.\")"
   ]
  },
  {
   "cell_type": "code",
   "execution_count": 22,
   "id": "17c483f1-0959-4dda-9d23-ee05261857dd",
   "metadata": {},
   "outputs": [
    {
     "name": "stdout",
     "output_type": "stream",
     "text": [
      "Discuss your learnings on from Chapter 9 to Chapter 17\n",
      "\n",
      "Chapter 16:\n",
      "\n",
      "In the Chapter 16 video lesson in YouTube, it talks about the Selection Sort. In the whole video, it explained what is selection sort all about, it's implementation and lastly showing an exercise for the practice of this topic. I've learned that selection sort is a simple algorithm for sorting, it gives o(n^2) BIG O complexity.\n",
      "This sorting algorithm is an in-place comparison-based algorithm in which the list is divided into two parts, the sorted part at the left end and the unsorted part at the right end. Initially, the sorted part is empty and the unsorted part is the entire list.\n",
      "\n",
      "The smallest element is selected from the unsorted array and swapped with the leftmost element, and that element becomes a part of the sorted array. This process continues moving unsorted array boundary by one element to the right. The time efficiency of selection sort is quadratic, so there are a number of sorting techniques which have better time complexity than selection sort.\n",
      "One thing which distinguishes selection sort from other sorting algorithms is that it makes the minimum possible number of swaps, n − 1 in the worst case. One of the reason why selection sort is used is when a small list is to be sorted.\n"
     ]
    }
   ],
   "source": [
    "print(\"Discuss your learnings on from Chapter 9 to Chapter 17\")\n",
    "print(\"\")\n",
    "print(\"Chapter 16:\")\n",
    "print(\"\")\n",
    "print(\"In the Chapter 16 video lesson in YouTube, it talks about the Selection Sort. In the whole video, it explained what is selection sort all about, it's implementation and lastly showing an exercise for the practice of this topic. I've learned that selection sort is a simple algorithm for sorting, it gives o(n^2) BIG O complexity.\")\n",
    "print(\"This sorting algorithm is an in-place comparison-based algorithm in which the list is divided into two parts, the sorted part at the left end and the unsorted part at the right end. Initially, the sorted part is empty and the unsorted part is the entire list.\")\n",
    "print(\"\")\n",
    "print(\"The smallest element is selected from the unsorted array and swapped with the leftmost element, and that element becomes a part of the sorted array. This process continues moving unsorted array boundary by one element to the right. The time efficiency of selection sort is quadratic, so there are a number of sorting techniques which have better time complexity than selection sort.\")\n",
    "print(\"One thing which distinguishes selection sort from other sorting algorithms is that it makes the minimum possible number of swaps, n − 1 in the worst case. One of the reason why selection sort is used is when a small list is to be sorted.\")"
   ]
  },
  {
   "cell_type": "code",
   "execution_count": 23,
   "id": "d4cc2788-0bc3-4df2-b2da-e1c73b47f083",
   "metadata": {},
   "outputs": [
    {
     "name": "stdout",
     "output_type": "stream",
     "text": [
      "Discuss your learnings on from Chapter 9 to Chapter 17\n",
      "\n",
      "Chapter 17:\n",
      "\n",
      "In the Chapter 17 video lesson in YouTube, it talks about the Simple Explanation of Recursion. In the whole video, it explained first the introduction, it’s theory, coding in python and lastly showing an exercise for the practice of this topic.\n",
      "The video provides a very simple explanation of recursion such that even a high school student can understand it this topic easily. It was said there that recursion is very important concept in the field of computer science. Any problem that can be divided into further small and simpler problem can be solved using a recursion.\n",
      "\n",
      "In simple words, recursion is a problem solving, and in some cases, a programming technique that has a very special and exclusive property. In recursion, a function or method has the ability of calling itself to solve the problem. The process of recursion involves solving a problem by turning it into smaller varieties of itself.\n",
      "How does recursion works? The concept of recursion is established on the idea that a problem can be solved much easily and in lesser time if it is represented in one or smaller versions. Adding base conditions to stop recursion is another important part of using this algorithm to solve a problem.\n"
     ]
    }
   ],
   "source": [
    "print(\"Discuss your learnings on from Chapter 9 to Chapter 17\")\n",
    "print(\"\")\n",
    "print(\"Chapter 17:\")\n",
    "print(\"\")\n",
    "print(\"In the Chapter 17 video lesson in YouTube, it talks about the Simple Explanation of Recursion. In the whole video, it explained first the introduction, it’s theory, coding in python and lastly showing an exercise for the practice of this topic.\")\n",
    "print(\"The video provides a very simple explanation of recursion such that even a high school student can understand it this topic easily. It was said there that recursion is very important concept in the field of computer science. Any problem that can be divided into further small and simpler problem can be solved using a recursion.\")\n",
    "print(\"\")\n",
    "print(\"In simple words, recursion is a problem solving, and in some cases, a programming technique that has a very special and exclusive property. In recursion, a function or method has the ability of calling itself to solve the problem. The process of recursion involves solving a problem by turning it into smaller varieties of itself.\")\n",
    "print(\"How does recursion works? The concept of recursion is established on the idea that a problem can be solved much easily and in lesser time if it is represented in one or smaller versions. Adding base conditions to stop recursion is another important part of using this algorithm to solve a problem.\")"
   ]
  },
  {
   "cell_type": "code",
   "execution_count": 26,
   "id": "abb43368-54a7-41d1-94a3-f25835b04738",
   "metadata": {},
   "outputs": [
    {
     "name": "stdout",
     "output_type": "stream",
     "text": [
      "\n",
      "Answer the following questions:\n",
      "\n"
     ]
    }
   ],
   "source": [
    "print(\"\")\n",
    "print(\"Answer the following questions:\")\n",
    "print(\"\")"
   ]
  },
  {
   "cell_type": "code",
   "execution_count": 44,
   "id": "37554528-7d91-44f4-84b4-d955ff726b65",
   "metadata": {},
   "outputs": [
    {
     "name": "stdout",
     "output_type": "stream",
     "text": [
      "1. Implement the simple methods get_num and get_den that will return the numerator and denominator of a fraction.\n",
      "\n",
      "Numerator:  20\n",
      "Denominator:  10\n"
     ]
    }
   ],
   "source": [
    "print(\"1. Implement the simple methods get_num and get_den that will return the numerator and denominator of a fraction.\")\n",
    "print(\"\")\n",
    "def get_num(num1):\n",
    "    return num1\n",
    "def get_den(den1):\n",
    "    return den1\n",
    "\n",
    "num = 20\n",
    "den = 10\n",
    "\n",
    "print(\"Numerator: \",get_num(num))\n",
    "print(\"Denominator: \",get_den(den))\n"
   ]
  },
  {
   "cell_type": "code",
   "execution_count": 30,
   "id": "ceaf25f6-3a23-4ec5-9fe1-469b88e4240b",
   "metadata": {},
   "outputs": [
    {
     "name": "stdout",
     "output_type": "stream",
     "text": [
      "2. Research the __radd__ method. How does it differ from __add__? When is it used? Implement __radd__\n",
      "\n",
      "__add__ is to take an input string and then return an instance which contains the data and concatenate it while __radd__ adds the string first then the user-defined class comes next to it.\n",
      "\n",
      "<__main__.Upper object at 0x000001C5DBC8E760>\n"
     ]
    }
   ],
   "source": [
    "print(\"2. Research the __radd__ method. How does it differ from __add__? When is it used? Implement __radd__\")\n",
    "print(\"\")\n",
    "\n",
    "print(\"__add__ is to take an input string and then return an instance which contains the data and concatenate it while __radd__ adds the string first then the user-defined class comes next to it.\")\n",
    "print(\"\")\n",
    "class Upper:\n",
    "    def __init__(self, initial):\n",
    "        self.data = initial.upper()\n",
    "    def __add__(self,other):\n",
    "        return Upper(self.data + other)\n",
    "\n",
    "u = Upper('Nani')\n",
    "\n",
    "a = u+\"Who knows\" \n",
    "\n",
    "print(a)"
   ]
  },
  {
   "cell_type": "code",
   "execution_count": 46,
   "id": "569503e0-e796-4ab3-827e-e70e0f30e2f4",
   "metadata": {},
   "outputs": [
    {
     "name": "stdout",
     "output_type": "stream",
     "text": [
      "3. Research the __repr__ method. How does it differ from __str__? When is it used? Implement __repr__.\n",
      "\n",
      ". __repr__ goal is to be unambiguous while __str__ goal is to be readable\n",
      "\n",
      "Instance name of class User\n"
     ]
    }
   ],
   "source": [
    "print(\"3. Research the __repr__ method. How does it differ from __str__? When is it used? Implement __repr__.\")\n",
    "print(\"\")\n",
    "print(\". __repr__ goal is to be unambiguous while __str__ goal is to be readable\")\n",
    "print(\"\")\n",
    "class User:\n",
    "    def __init__(self, name):\n",
    "        self.username = name\n",
    "    def __repr__(self):\n",
    "        return 'Instance {} of class User'.format(self.username)\n",
    "\n",
    "lp = User('name')\n",
    "\n",
    "print(lp)"
   ]
  },
  {
   "cell_type": "code",
   "execution_count": 47,
   "id": "2abd198c-135a-4792-8127-603707e7dabd",
   "metadata": {},
   "outputs": [
    {
     "name": "stdout",
     "output_type": "stream",
     "text": [
      "4. The most simple arithmetic circuit is known as the half adder. Research the simple half-adder circuit. Implement this circuit.\n",
      "\n",
      "SUM is:   214\n",
      "CARRY is:     8\n"
     ]
    }
   ],
   "source": [
    "print(\"4. The most simple arithmetic circuit is known as the half adder. Research the simple half-adder circuit. Implement this circuit.\")\n",
    "print(\"\")\n",
    "def getResult(X, Y):\n",
    "\tSum = X ^ Y\n",
    "\tCarry = X & Y\n",
    "\tprint(\"SUM is:  \", Sum)\n",
    "\tprint(\"CARRY is:    \", Carry)\n",
    "\n",
    "X = 200\n",
    "Y = 30\n",
    "getResult(X, Y)"
   ]
  },
  {
   "cell_type": "code",
   "execution_count": 49,
   "id": "51a600ba-8d79-4a5c-83f9-6e5fb23f36f4",
   "metadata": {},
   "outputs": [
    {
     "name": "stdout",
     "output_type": "stream",
     "text": [
      "5. Design a class to represent a playing card and another one to represent a deck of cards. Using these two classes, implement your favorite card game.\n",
      "\n"
     ]
    }
   ],
   "source": [
    "print(\"5. Design a class to represent a playing card and another one to represent a deck of cards. Using these two classes, implement your favorite card game.\")\n",
    "print(\"\")\n",
    "class Card(object):\n",
    "    \"\"\" Represents a standard playing card.\n",
    "    Attributes:\n",
    "        suit: Integer 0-3\n",
    "        rank: Integer 1-13\n",
    "    \"\"\"\n",
    "\n",
    "    suit_names = [\"Clubs\", \"Diamonds\", \"Hearts\", \"Spades\"]\n",
    "    rank_names = [None, \"2\", \"3\", \"4\", \"5\", \"6\", \"7\", \"8\",\n",
    "                  \"9\", \"10\", \"Jack\", \"Queen\", \"King\", \"Ace\"]\n",
    "\n",
    "    def __init__(self, suit=0, rank=1):\n",
    "        self.suit = suit\n",
    "        self.rank = rank\n",
    "\n",
    "    def __str__(self):\n",
    "        \"\"\" returns a human readable string representation \"\"\"\n",
    "        return '%s of %s' % (Card.rank_names[self.rank],\n",
    "                             Card.suit_names[self.suit])\n",
    "\n",
    "    def __lt__(self, other):\n",
    "        \"\"\" Compares this card to other, only by rank (no suit comparison)\n",
    "        Returns a positive number if this > other, negative otherwise.\n",
    "        Returns 0 if the cards are of same rank\n",
    "        \"\"\"\n",
    "        # t1 = self.rank\n",
    "        # t2 = other.rank\n",
    "        t1 = self.suit, self.rank\n",
    "        t2 = other.suit, other.rank\n",
    "        return t1 < t2\n",
    "\n",
    "    def getRank(self):\n",
    "        return self.rank"
   ]
  },
  {
   "cell_type": "code",
   "execution_count": 50,
   "id": "a833fd31-ee4a-4d6d-9e6b-4bf24cd08d6c",
   "metadata": {},
   "outputs": [
    {
     "name": "stdout",
     "output_type": "stream",
     "text": [
      "6. Design and implement an experiment to do benchmark comparisons of the two queue(enqueue,dequeue) implementations. What can you learn from such an experiment?\n",
      "\n",
      "<__main__.Queue object at 0x000001C5DBBC6700>\n",
      "deque(['Harry', 'Hermione', 'Ron'])\n",
      "Adding to the right: \n",
      "deque(['Harry', 'Hermione', 'Ron', 'Ginny'])\n",
      "Adding to the left: \n",
      "deque(['Fred', 'Harry', 'Hermione', 'Ron', 'Ginny'])\n",
      "Removing from the right: \n",
      "deque(['Fred', 'Harry', 'Hermione', 'Ron'])\n",
      "Removing from the left: \n",
      "deque(['Harry', 'Hermione', 'Ron'])\n",
      "Reversing the deque: \n",
      "deque(['Ron', 'Hermione', 'Harry'])\n"
     ]
    }
   ],
   "source": [
    "print(\"6. Design and implement an experiment to do benchmark comparisons of the two queue(enqueue,dequeue) implementations. What can you learn from such an experiment?\")\n",
    "print(\"\")\n",
    "class Queue:\n",
    " \n",
    "  def __init__(self):\n",
    "      self.queue = list()\n",
    " \n",
    "  def addToQueue(self,value):\n",
    "# Insert method to add element\n",
    "      if value not in self.queue:\n",
    "          self.queue.insert(0,value)\n",
    "          return True\n",
    "      return False\n",
    " \n",
    "  def size(self):\n",
    "      return len(self.queue)\n",
    " \n",
    "MySuperHero = Queue()\n",
    "MySuperHero.addToQueue(\"Thor\")\n",
    "MySuperHero.addToQueue(\"Iron man\")\n",
    "MySuperHero.addToQueue(\"Hulk\")\n",
    "MySuperHero.addToQueue(\"Doctor Strange\")\n",
    "MySuperHero.addToQueue(\"Vision\")\n",
    "print(MySuperHero)\n",
    "\n",
    "import collections\n",
    " \n",
    "# Create a deque\n",
    "DoubleEnded = collections.deque([\"Harry\",\"Hermione\",\"Ron\"])\n",
    "print (DoubleEnded)\n",
    " \n",
    "# Append to the right\n",
    "print(\"Adding to the right: \")\n",
    "DoubleEnded.append(\"Ginny\")\n",
    "print (DoubleEnded)\n",
    " \n",
    "# append to the left\n",
    "print(\"Adding to the left: \")\n",
    "DoubleEnded.appendleft(\"Fred\")\n",
    "print (DoubleEnded)\n",
    " \n",
    "# Remove from the right\n",
    "print(\"Removing from the right: \")\n",
    "DoubleEnded.pop()\n",
    "print (DoubleEnded)\n",
    " \n",
    "# Remove from the left\n",
    "print(\"Removing from the left: \")\n",
    "DoubleEnded.popleft()\n",
    "print (DoubleEnded)\n",
    " \n",
    "# Reverse the dequeue\n",
    "print(\"Reversing the deque: \")\n",
    "DoubleEnded.reverse()\n",
    "print (DoubleEnded)"
   ]
  },
  {
   "cell_type": "code",
   "execution_count": 36,
   "id": "b1a3ae12-900c-42a3-930f-2aecae8a632e",
   "metadata": {},
   "outputs": [
    {
     "name": "stdout",
     "output_type": "stream",
     "text": [
      "7. Consider a real life situation. Formulate a question and then design a simulation that can help to answer it.\n",
      "\n",
      "Road incidents. How to minimize road incidents?\n",
      "• Avoiding over-speeding and following speed limits.\n",
      "• Avoiding drunken driving.\n",
      "• Using helmets by two-wheeler drivers.\n",
      "• Using seat belts and child restraints in cars.\n",
      "• Improving visibility, appropriate headlights and road lightings.\n",
      "• Discipline  \n"
     ]
    }
   ],
   "source": [
    "print(\"7. Consider a real life situation. Formulate a question and then design a simulation that can help to answer it.\")\n",
    "print(\"\")\n",
    "print(\"Road incidents. How to minimize road incidents?\")\n",
    "print(\"• Avoiding over-speeding and following speed limits.\")\n",
    "print(\"• Avoiding drunken driving.\")\n",
    "print(\"• Using helmets by two-wheeler drivers.\")\n",
    "print(\"• Using seat belts and child restraints in cars.\")\n",
    "print(\"• Improving visibility, appropriate headlights and road lightings.\")\n",
    "print(\"• Discipline  \")"
   ]
  },
  {
   "cell_type": "code",
   "execution_count": 40,
   "id": "073db23a-75f4-4b7b-826a-5a06822a77b7",
   "metadata": {},
   "outputs": [
    {
     "name": "stdout",
     "output_type": "stream",
     "text": [
      "8. Implement a queue using linked lists.\n",
      "\n",
      "['Janmark', 'Maghanoy', 'Sabanal', 'Sabanal', 'Janmark']\n",
      "Janmark\n",
      "['Maghanoy', 'Sabanal', 'Sabanal', 'Janmark']\n",
      "Maghanoy\n",
      "['Sabanal', 'Sabanal', 'Janmark']\n"
     ]
    }
   ],
   "source": [
    "print(\"8. Implement a queue using linked lists.\")\n",
    "print(\"\")\n",
    "queue = [\"Janmark\",\"Maghanoy\", \"Sabanal\"]\n",
    "queue.append(\"Sabanal\")\n",
    "queue.append(\"Janmark\")\n",
    "print(queue)\n",
    "  \n",
    "# Removes the first item\n",
    "print(queue.pop(0))\n",
    "  \n",
    "print(queue)\n",
    "  \n",
    "# Removes the first item\n",
    "print(queue.pop(0))\n",
    "  \n",
    "print(queue)"
   ]
  },
  {
   "cell_type": "code",
   "execution_count": 41,
   "id": "e7ac0866-6245-4303-84ef-e703656d4853",
   "metadata": {},
   "outputs": [
    {
     "name": "stdout",
     "output_type": "stream",
     "text": [
      "9. Write a recursive function to compute the factorial of a number.\n",
      "\n",
      "The factorial of 7 is 5040\n"
     ]
    }
   ],
   "source": [
    "print(\"9. Write a recursive function to compute the factorial of a number.\")\n",
    "print(\"\")\n",
    "\n",
    "def recur_factorial(n):\n",
    "   if n == 1:\n",
    "       return n\n",
    "   else:\n",
    "       return n*recur_factorial(n-1)\n",
    "\n",
    "num = 7\n",
    "\n",
    "\n",
    "print(\"The factorial of\", num, \"is\", recur_factorial(num))"
   ]
  },
  {
   "cell_type": "code",
   "execution_count": 42,
   "id": "9b27e970-3d35-49a3-a557-86b61b73e6de",
   "metadata": {},
   "outputs": [
    {
     "name": "stdout",
     "output_type": "stream",
     "text": [
      "10. Set up a random experiment to test the difference between a sequential search and a binary search on a list of integers.\n",
      "\n",
      "Element is present at index 3\n",
      "(True, 3)\n"
     ]
    }
   ],
   "source": [
    "print(\"10. Set up a random experiment to test the difference between a sequential search and a binary search on a list of integers.\")\n",
    "print(\"\")\n",
    "def binary_search(arr, low, high, x):\n",
    " \n",
    "    # Check base case\n",
    "    if high >= low:\n",
    " \n",
    "        mid = (high + low) // 2\n",
    " \n",
    "        # If element is present at the middle itself\n",
    "        if arr[mid] == x:\n",
    "            return mid\n",
    " \n",
    "        # If element is smaller than mid, then it can only\n",
    "        # be present in left subarray\n",
    "        elif arr[mid] > x:\n",
    "            return binary_search(arr, low, mid - 1, x)\n",
    " \n",
    "        # Else the element can only be present in right subarray\n",
    "        else:\n",
    "            return binary_search(arr, mid + 1, high, x)\n",
    " \n",
    "    else:\n",
    "        # Element is not present in the array\n",
    "        return -1\n",
    " \n",
    "# Test array\n",
    "arr = [ 2, 3, 4, 10, 40 ]\n",
    "x = 10\n",
    " \n",
    "# Function call\n",
    "result = binary_search(arr, 0, len(arr)-1, x)\n",
    " \n",
    "if result != -1:\n",
    "    print(\"Element is present at index\", str(result))\n",
    "else:\n",
    "    print(\"Element is not present in array\")\n",
    "\n",
    "\n",
    "def Sequential_Search(dlist, item):\n",
    "\n",
    "    pos = 0\n",
    "    found = False\n",
    "    \n",
    "    while pos < len(dlist) and not found:\n",
    "        if dlist[pos] == item:\n",
    "            found = True\n",
    "        else:\n",
    "            pos = pos + 1\n",
    "    \n",
    "    return found, pos\n",
    "\n",
    "print(Sequential_Search([11,23,58,31,56,77,43,12,65,19],31))\n"
   ]
  },
  {
   "cell_type": "code",
   "execution_count": 43,
   "id": "3e44f630-40a3-4d96-bbf7-61764aba5f54",
   "metadata": {},
   "outputs": [
    {
     "name": "stdout",
     "output_type": "stream",
     "text": [
      "11. Suppose you are a computer scientist/art thief who has broken into a major art gallery. All you have with you to haul out your stolen art is your knapsack which only holds W pounds of art, but for every piece of art you know its value and its weight. Write a dynamic programming function to help you maximize your profit. Here is a sample problem for you to use to get started: Suppose your knapsack can hold a total weight of 20. \n",
      "\n",
      "8\n"
     ]
    }
   ],
   "source": [
    "print(\"11. Suppose you are a computer scientist/art thief who has broken into a major art gallery. All you have with you to haul out your stolen art is your knapsack which only holds W pounds of art, but for every piece of art you know its value and its weight. Write a dynamic programming function to help you maximize your profit. Here is a sample problem for you to use to get started: Suppose your knapsack can hold a total weight of 20. \")\n",
    "print(\"\")\n",
    "def knapSack(W, wt, val, n):\n",
    "\n",
    "\t# Base Case\n",
    "\tif n == 0 or W == 0:\n",
    "\t\treturn 0\n",
    "\n",
    "\t# If weight of the nth item is\n",
    "\t# more than Knapsack of capacity W,\n",
    "\t# then this item cannot be included\n",
    "\t# in the optimal solution\n",
    "\tif (wt[n-1] > W):\n",
    "\t\treturn knapSack(W, wt, val, n-1)\n",
    "\n",
    "\t# return the maximum of two cases:\n",
    "\t# (1) nth item included\n",
    "\t# (2) not included\n",
    "\telse:\n",
    "\t\treturn max(\n",
    "\t\t\tval[n-1] + knapSack(\n",
    "\t\t\t\tW-wt[n-1], wt, val, n-1),\n",
    "\t\t\tknapSack(W, wt, val, n-1))\n",
    "\n",
    "# end of function knapSack\n",
    "\n",
    "\n",
    "#Driver Code\n",
    "val = [3, 4, 8,8,10]\n",
    "wt = [2, 3, 4,5,9]\n",
    "W = 5\n",
    "n = len(val)\n",
    "print (knapSack(W, wt, val, n))\n",
    "\n",
    "# This code is contributed by Nikhil Kumar Singh\n"
   ]
  },
  {
   "cell_type": "code",
   "execution_count": null,
   "id": "6632ed42-bd88-469a-9f0c-66638a0357d3",
   "metadata": {},
   "outputs": [],
   "source": []
  }
 ],
 "metadata": {
  "kernelspec": {
   "display_name": "Python 3",
   "language": "python",
   "name": "python3"
  },
  "language_info": {
   "codemirror_mode": {
    "name": "ipython",
    "version": 3
   },
   "file_extension": ".py",
   "mimetype": "text/x-python",
   "name": "python",
   "nbconvert_exporter": "python",
   "pygments_lexer": "ipython3",
   "version": "3.9.5"
  }
 },
 "nbformat": 4,
 "nbformat_minor": 5
}
